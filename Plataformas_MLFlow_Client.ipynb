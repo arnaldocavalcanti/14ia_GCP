{
  "nbformat": 4,
  "nbformat_minor": 0,
  "metadata": {
    "colab": {
      "name": "Plataformas MLFlow - Client",
      "provenance": [],
      "toc_visible": true,
      "include_colab_link": true
    },
    "kernelspec": {
      "name": "python3",
      "display_name": "Python 3"
    },
    "language_info": {
      "name": "python"
    }
  },
  "cells": [
    {
      "cell_type": "markdown",
      "metadata": {
        "id": "view-in-github",
        "colab_type": "text"
      },
      "source": [
        "<a href=\"https://colab.research.google.com/github/arnaldocavalcanti/14ia_GCP/blob/main/Plataformas_MLFlow_Client.ipynb\" target=\"_parent\"><img src=\"https://colab.research.google.com/assets/colab-badge.svg\" alt=\"Open In Colab\"/></a>"
      ]
    },
    {
      "cell_type": "markdown",
      "metadata": {
        "id": "GvZ-QOt_GEnI"
      },
      "source": [
        "# Setup"
      ]
    },
    {
      "cell_type": "code",
      "metadata": {
        "id": "ayvK6A4wH5RC"
      },
      "source": [
        "! git clone https://github.com/elthonf/plataformas-cognitivas-local"
      ],
      "execution_count": null,
      "outputs": []
    },
    {
      "cell_type": "code",
      "metadata": {
        "id": "oBxMhdVbH3-d"
      },
      "source": [
        "import requests\n",
        "import pandas as pd"
      ],
      "execution_count": null,
      "outputs": []
    },
    {
      "cell_type": "code",
      "metadata": {
        "id": "YrndtEGKIw9U"
      },
      "source": [
        "#@title Preencha aqui com as informações do cliente requisitante\n",
        "\n",
        "#@markdown Quantos clientes da fila:\n",
        "nclientes = 7 #@param {type:\"slider\", min:1, max:50, step:1}\n",
        "\n",
        "#@markdown Informe o IP do servidor:\n",
        "serverip = \"35.231.190.212\" #@param {type:\"string\"}\n",
        "\n",
        "#@markdown Informe a prota do servidor:\n",
        "serverport = \"1234\" #@param {type:\"string\"}\n",
        "\n",
        "\n",
        "#@markdown ---\n"
      ],
      "execution_count": null,
      "outputs": []
    },
    {
      "cell_type": "markdown",
      "metadata": {
        "id": "64D4uHQEIRRZ"
      },
      "source": [
        "# Carregamento de dados de clientes que querem empréstimo"
      ]
    },
    {
      "cell_type": "code",
      "metadata": {
        "id": "-__0PlHLH4r1"
      },
      "source": [
        "mydf = pd.read_csv('plataformas-cognitivas-local/datasets/BaseUnknown03.csv')\n",
        "mydf.head()"
      ],
      "execution_count": null,
      "outputs": []
    },
    {
      "cell_type": "markdown",
      "metadata": {
        "id": "RB6GTQNmNUmz"
      },
      "source": [
        "Escolha de `nclientes`"
      ]
    },
    {
      "cell_type": "code",
      "metadata": {
        "id": "14La_dUHIWbN"
      },
      "source": [
        "mysample = mydf.sample(nclientes)\n",
        "mysample"
      ],
      "execution_count": null,
      "outputs": []
    },
    {
      "cell_type": "code",
      "metadata": {
        "id": "nc6j61-CKeG8"
      },
      "source": [
        "mysample_input = mysample.drop('nome', axis=1)\n",
        "mysample_input"
      ],
      "execution_count": null,
      "outputs": []
    },
    {
      "cell_type": "markdown",
      "metadata": {
        "id": "q7KnRPl6IdRn"
      },
      "source": [
        "# Prepara chamada"
      ]
    },
    {
      "cell_type": "code",
      "metadata": {
        "id": "GyhIS7aAIcYi"
      },
      "source": [
        "url = \"http://{0}:{1}/invocations\".format(serverip, serverport)\n",
        "url"
      ],
      "execution_count": null,
      "outputs": []
    },
    {
      "cell_type": "code",
      "metadata": {
        "id": "lluMxpXMJ7Yq"
      },
      "source": [
        "headers = {'Content-Type': 'application/json'}\n",
        "conteudo = mysample_input.to_json( orient='split')"
      ],
      "execution_count": null,
      "outputs": []
    },
    {
      "cell_type": "markdown",
      "metadata": {
        "id": "A138UJUZKBwO"
      },
      "source": [
        "#Chama API criada pelo MLFlow"
      ]
    },
    {
      "cell_type": "code",
      "metadata": {
        "id": "a1_dkntEKAEk"
      },
      "source": [
        "response = requests.request(\"POST\", url, headers=headers, data=conteudo)"
      ],
      "execution_count": null,
      "outputs": []
    },
    {
      "cell_type": "code",
      "metadata": {
        "id": "oP-e0f1oKD4i"
      },
      "source": [
        "print(\"Resposta da API:\")\n",
        "respostas = response.json()\n",
        "respostas"
      ],
      "execution_count": null,
      "outputs": []
    },
    {
      "cell_type": "markdown",
      "metadata": {
        "id": "poOmpElYKnag"
      },
      "source": [
        "# Concatena as saídas\n",
        "Apenas para melhor visualização "
      ]
    },
    {
      "cell_type": "code",
      "metadata": {
        "id": "5V_jjj_BKOuP"
      },
      "source": [
        "mysample[\"respostamodelo\"] = respostas\n",
        "mysample"
      ],
      "execution_count": null,
      "outputs": []
    },
    {
      "cell_type": "code",
      "metadata": {
        "id": "5hGyWV4crA4b"
      },
      "source": [
        "import pandas as pd"
      ],
      "execution_count": null,
      "outputs": []
    },
    {
      "cell_type": "code",
      "metadata": {
        "id": "NVseQsbdrCMg"
      },
      "source": [
        "a = pd.DataFrame({\"aaa\": [1, 2, 3, 4], \"bbb\": [1, 2, 3, 4], \"ccc\": [\"wfwcfwe\", \"wfvwveccvwwe\", \"wvwcewe\", \"wevwervwrv\"]})"
      ],
      "execution_count": null,
      "outputs": []
    },
    {
      "cell_type": "code",
      "metadata": {
        "colab": {
          "base_uri": "https://localhost:8080/"
        },
        "id": "YK8wiW-1rGgJ",
        "outputId": "2efab780-1ca5-4b79-e8bb-913c2d67ad79"
      },
      "source": [
        "a.memory_usage().sum()"
      ],
      "execution_count": null,
      "outputs": [
        {
          "output_type": "execute_result",
          "data": {
            "text/plain": [
              "224"
            ]
          },
          "metadata": {
            "tags": []
          },
          "execution_count": 65
        }
      ]
    },
    {
      "cell_type": "code",
      "metadata": {
        "colab": {
          "base_uri": "https://localhost:8080/"
        },
        "id": "_ixU0EUqrEPU",
        "outputId": "bcbf02df-fe7b-4b4e-9611-fcfa70901a50"
      },
      "source": [
        ""
      ],
      "execution_count": null,
      "outputs": [
        {
          "output_type": "execute_result",
          "data": {
            "text/plain": [
              "8"
            ]
          },
          "metadata": {
            "tags": []
          },
          "execution_count": 58
        }
      ]
    },
    {
      "cell_type": "code",
      "metadata": {
        "id": "Zl6BgtpOrLSr"
      },
      "source": [
        ""
      ],
      "execution_count": null,
      "outputs": []
    }
  ]
}