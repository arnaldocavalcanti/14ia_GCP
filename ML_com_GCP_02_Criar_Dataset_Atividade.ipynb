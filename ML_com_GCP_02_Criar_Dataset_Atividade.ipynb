{
  "nbformat": 4,
  "nbformat_minor": 0,
  "metadata": {
    "colab": {
      "name": "ML com GCP - 02 - Criar Dataset - Atividade",
      "provenance": [],
      "collapsed_sections": [],
      "toc_visible": true,
      "include_colab_link": true
    },
    "kernelspec": {
      "name": "python3",
      "display_name": "Python 3"
    }
  },
  "cells": [
    {
      "cell_type": "markdown",
      "metadata": {
        "id": "view-in-github",
        "colab_type": "text"
      },
      "source": [
        "<a href=\"https://colab.research.google.com/github/arnaldocavalcanti/14ia_GCP/blob/main/ML_com_GCP_02_Criar_Dataset_Atividade.ipynb\" target=\"_parent\"><img src=\"https://colab.research.google.com/assets/colab-badge.svg\" alt=\"Open In Colab\"/></a>"
      ]
    },
    {
      "cell_type": "markdown",
      "metadata": {
        "id": "ttxUdtrlm4m6"
      },
      "source": [
        "# Autenticação\n",
        "Primeiro precisamos autenticar nossa sessão do Colab no Google e definimos o ID do projeto"
      ]
    },
    {
      "cell_type": "code",
      "metadata": {
        "id": "9wgK4E7UmlR8",
        "colab": {
          "base_uri": "https://localhost:8080/"
        },
        "outputId": "a600fead-cdcd-404d-bcc8-e35684b3a77d"
      },
      "source": [
        "from google.colab import auth\n",
        "auth.authenticate_user()\n",
        "print('Authenticated')"
      ],
      "execution_count": 1,
      "outputs": [
        {
          "output_type": "stream",
          "text": [
            "Authenticated\n"
          ],
          "name": "stdout"
        }
      ]
    },
    {
      "cell_type": "code",
      "metadata": {
        "id": "aiHcymktlWxC"
      },
      "source": [
        "#@title Informe o id do projeto nesta linha e o bucket:\n",
        "\n",
        "project_id = \"arnaldo-creditosgcp\" #@param {type:\"string\"}\n",
        "bucket_id = \"arnaldo-creditosgcp-14ia\" #@param {type:\"string\"}\n"
      ],
      "execution_count": 2,
      "outputs": []
    },
    {
      "cell_type": "markdown",
      "metadata": {
        "id": "D7SXXClkL-3S"
      },
      "source": [
        "# Client Big Query\n",
        "\n",
        "Como vamos buscar dados no bigquery, é necessário criar um cliente BG"
      ]
    },
    {
      "cell_type": "code",
      "metadata": {
        "id": "_MooAayGL-OK"
      },
      "source": [
        "# Call BigQuery and examine in dataframe\n",
        "from google.cloud import bigquery\n",
        "\n",
        "bgclient = bigquery.Client(project=project_id)"
      ],
      "execution_count": 3,
      "outputs": []
    },
    {
      "cell_type": "markdown",
      "metadata": {
        "id": "0Cd5TcsWr7Ok"
      },
      "source": [
        "Demais imports:"
      ]
    },
    {
      "cell_type": "code",
      "metadata": {
        "id": "QcW9RAL6j3_v"
      },
      "source": [
        "import matplotlib.pyplot as plt\n",
        "import seaborn as sns, numpy as np\n"
      ],
      "execution_count": 4,
      "outputs": []
    },
    {
      "cell_type": "markdown",
      "metadata": {
        "id": "CBtxvZtydI6R"
      },
      "source": [
        "#Obtenção dos dados\n",
        "\n",
        "Como vimos, temos 137.826.763 de observações na base.\n",
        "\n",
        "Mesmo considerando apenas os nascimentos a partir de 2001, teremos 33.271.914 observações.\n",
        "\n",
        "Vamos faça um comando para obter apenas 0,1% porcento do registros (ou seja, **aproximadamente** 33.3 mil observações)"
      ]
    },
    {
      "cell_type": "code",
      "metadata": {
        "id": "96gBDLmEG9sA",
        "outputId": "d6c6232d-f749-4e2a-eda4-76bcf83db6c4",
        "colab": {
          "base_uri": "https://localhost:8080/",
          "height": 80
        }
      },
      "source": [
        "query = \"\"\"\n",
        "SELECT\n",
        "  COUNT(1) as observacoes\n",
        "FROM\n",
        "  publicdata.samples.natality\n",
        "WHERE year > 2001 \n",
        "AND RAND() < 0.001\n",
        "\"\"\"\n",
        "df = bgclient.query(query).to_dataframe()\n",
        "df"
      ],
      "execution_count": 8,
      "outputs": [
        {
          "output_type": "execute_result",
          "data": {
            "text/html": [
              "<div>\n",
              "<style scoped>\n",
              "    .dataframe tbody tr th:only-of-type {\n",
              "        vertical-align: middle;\n",
              "    }\n",
              "\n",
              "    .dataframe tbody tr th {\n",
              "        vertical-align: top;\n",
              "    }\n",
              "\n",
              "    .dataframe thead th {\n",
              "        text-align: right;\n",
              "    }\n",
              "</style>\n",
              "<table border=\"1\" class=\"dataframe\">\n",
              "  <thead>\n",
              "    <tr style=\"text-align: right;\">\n",
              "      <th></th>\n",
              "      <th>observacoes</th>\n",
              "    </tr>\n",
              "  </thead>\n",
              "  <tbody>\n",
              "    <tr>\n",
              "      <th>0</th>\n",
              "      <td>29105</td>\n",
              "    </tr>\n",
              "  </tbody>\n",
              "</table>\n",
              "</div>"
            ],
            "text/plain": [
              "   observacoes\n",
              "0        29105"
            ]
          },
          "metadata": {
            "tags": []
          },
          "execution_count": 8
        }
      ]
    },
    {
      "cell_type": "code",
      "metadata": {
        "id": "u0m37Oq6HV9h"
      },
      "source": [
        ""
      ],
      "execution_count": null,
      "outputs": []
    },
    {
      "cell_type": "code",
      "metadata": {
        "id": "sLfHsmcpIAdR"
      },
      "source": [
        ""
      ],
      "execution_count": null,
      "outputs": []
    },
    {
      "cell_type": "code",
      "metadata": {
        "id": "DCS1iwsUHPuL"
      },
      "source": [
        "query = \"\"\"\n",
        "SELECT\n",
        "  weight_pounds * 0.45359237 AS weight_kilos,\n",
        "  is_male,\n",
        "  mother_age,\n",
        "  mother_married,\n",
        "  CASE\n",
        "      WHEN plurality = 1 THEN \"1\"\n",
        "      WHEN plurality = 2 THEN \"2\"\n",
        "      WHEN plurality = 3 THEN \"3\"\n",
        "      WHEN plurality = 4 THEN \"4\"\n",
        "      WHEN plurality = 5 THEN \"5\"\n",
        "      WHEN plurality >= 6 THEN \"6\"\n",
        "      ELSE NULL\n",
        "  END AS plurality,\n",
        "  gestation_weeks,\n",
        "  CONCAT(CAST(YEAR AS STRING), CAST(month AS STRING)) as year_and_month,\n",
        "  FARM_FINGERPRINT('ELTHON') AS MeuHash,  \n",
        "  ABS(FARM_FINGERPRINT(CONCAT(CAST(YEAR AS STRING), CAST(month AS STRING)))) AS hashmonth,\n",
        "  RAND() AS meurand\n",
        "FROM\n",
        "  publicdata.samples.natality\n",
        "WHERE year > 2000 \n",
        "AND RAND() < 0.001\n",
        "\"\"\""
      ],
      "execution_count": null,
      "outputs": []
    },
    {
      "cell_type": "code",
      "metadata": {
        "id": "OApqG631Hz36",
        "colab": {
          "base_uri": "https://localhost:8080/"
        },
        "outputId": "44ea2846-29f3-4cdd-8166-5137c775d6de"
      },
      "source": [
        "df = bgclient.query(query).to_dataframe()\n",
        "df.shape"
      ],
      "execution_count": null,
      "outputs": [
        {
          "output_type": "execute_result",
          "data": {
            "text/plain": [
              "(33364, 10)"
            ]
          },
          "metadata": {
            "tags": []
          },
          "execution_count": 9
        }
      ]
    },
    {
      "cell_type": "code",
      "metadata": {
        "id": "1K6QvegbIEqq"
      },
      "source": [
        "df.head()"
      ],
      "execution_count": null,
      "outputs": []
    },
    {
      "cell_type": "markdown",
      "metadata": {
        "id": "6uBCPKuDI8CD"
      },
      "source": [
        "# Pré-Processamento"
      ]
    },
    {
      "cell_type": "markdown",
      "metadata": {
        "id": "AmBQEDC1Jb5I"
      },
      "source": [
        "Aparentemente, há observações com NaN ou ainda como valores igual a zero. Ajuste o dataset para que isso não \"polua\" nossa análise"
      ]
    },
    {
      "cell_type": "code",
      "metadata": {
        "id": "DpsLooQ1IHBv",
        "colab": {
          "base_uri": "https://localhost:8080/"
        },
        "outputId": "49ae83ab-726b-4a42-c5d6-2a21e0f6e84b"
      },
      "source": [
        "df.isnull().sum()"
      ],
      "execution_count": null,
      "outputs": [
        {
          "output_type": "execute_result",
          "data": {
            "text/plain": [
              "weight_kilos        36\n",
              "is_male              0\n",
              "mother_age           0\n",
              "mother_married       0\n",
              "plurality            0\n",
              "gestation_weeks    254\n",
              "year_and_month       0\n",
              "MeuHash              0\n",
              "hashmonth            0\n",
              "meurand              0\n",
              "dtype: int64"
            ]
          },
          "metadata": {
            "tags": []
          },
          "execution_count": 10
        }
      ]
    },
    {
      "cell_type": "code",
      "metadata": {
        "id": "HcwyTveCQIh8"
      },
      "source": [
        "df = df.dropna(how='any',axis=0)"
      ],
      "execution_count": null,
      "outputs": []
    },
    {
      "cell_type": "code",
      "metadata": {
        "id": "F7amHKrVKc-A",
        "colab": {
          "base_uri": "https://localhost:8080/",
          "height": 201
        },
        "outputId": "9bd393f0-b45f-4fa4-8bdc-200c3bbdc0b7"
      },
      "source": [
        "df[['is_male', 'mother_age', 'mother_married', 'plurality', 'gestation_weeks']].head()"
      ],
      "execution_count": null,
      "outputs": [
        {
          "output_type": "execute_result",
          "data": {
            "text/html": [
              "<div>\n",
              "<style scoped>\n",
              "    .dataframe tbody tr th:only-of-type {\n",
              "        vertical-align: middle;\n",
              "    }\n",
              "\n",
              "    .dataframe tbody tr th {\n",
              "        vertical-align: top;\n",
              "    }\n",
              "\n",
              "    .dataframe thead th {\n",
              "        text-align: right;\n",
              "    }\n",
              "</style>\n",
              "<table border=\"1\" class=\"dataframe\">\n",
              "  <thead>\n",
              "    <tr style=\"text-align: right;\">\n",
              "      <th></th>\n",
              "      <th>is_male</th>\n",
              "      <th>mother_age</th>\n",
              "      <th>mother_married</th>\n",
              "      <th>plurality</th>\n",
              "      <th>gestation_weeks</th>\n",
              "    </tr>\n",
              "  </thead>\n",
              "  <tbody>\n",
              "    <tr>\n",
              "      <th>0</th>\n",
              "      <td>True</td>\n",
              "      <td>28</td>\n",
              "      <td>False</td>\n",
              "      <td>1</td>\n",
              "      <td>39.0</td>\n",
              "    </tr>\n",
              "    <tr>\n",
              "      <th>1</th>\n",
              "      <td>False</td>\n",
              "      <td>39</td>\n",
              "      <td>True</td>\n",
              "      <td>1</td>\n",
              "      <td>37.0</td>\n",
              "    </tr>\n",
              "    <tr>\n",
              "      <th>2</th>\n",
              "      <td>True</td>\n",
              "      <td>25</td>\n",
              "      <td>False</td>\n",
              "      <td>1</td>\n",
              "      <td>37.0</td>\n",
              "    </tr>\n",
              "    <tr>\n",
              "      <th>3</th>\n",
              "      <td>True</td>\n",
              "      <td>27</td>\n",
              "      <td>True</td>\n",
              "      <td>1</td>\n",
              "      <td>36.0</td>\n",
              "    </tr>\n",
              "    <tr>\n",
              "      <th>4</th>\n",
              "      <td>True</td>\n",
              "      <td>33</td>\n",
              "      <td>True</td>\n",
              "      <td>1</td>\n",
              "      <td>38.0</td>\n",
              "    </tr>\n",
              "  </tbody>\n",
              "</table>\n",
              "</div>"
            ],
            "text/plain": [
              "   is_male  mother_age  mother_married plurality  gestation_weeks\n",
              "0     True          28           False         1             39.0\n",
              "1    False          39            True         1             37.0\n",
              "2     True          25           False         1             37.0\n",
              "3     True          27            True         1             36.0\n",
              "4     True          33            True         1             38.0"
            ]
          },
          "metadata": {
            "tags": []
          },
          "execution_count": 16
        }
      ]
    },
    {
      "cell_type": "markdown",
      "metadata": {
        "id": "lTfb0c6bMutR"
      },
      "source": [
        "# Spliting em treino e teste"
      ]
    },
    {
      "cell_type": "markdown",
      "metadata": {
        "id": "zIXgCfXMKZ4f"
      },
      "source": [
        "Divida o dataset em 75% treino e 25% testes.\n",
        "Mantenha as colunas \n",
        "\n",
        "```\n",
        "'weight_kilos', 'is_male', 'mother_age', 'mother_married', 'plurality', 'gestation_weeks', 'hashmonth'\n",
        "```"
      ]
    },
    {
      "cell_type": "code",
      "metadata": {
        "id": "PTHFBOwFyNDU"
      },
      "source": [
        "from sklearn.model_selection import train_test_split\n",
        "df_treino, df_teste = train_test_split(df, test_size=0.25)"
      ],
      "execution_count": null,
      "outputs": []
    },
    {
      "cell_type": "code",
      "metadata": {
        "id": "5_UmVi8GMz6F",
        "colab": {
          "base_uri": "https://localhost:8080/"
        },
        "outputId": "01d57572-64d6-4658-d2c3-06c72bef9495"
      },
      "source": [
        "print(df_treino.shape)\n",
        "df_teste.shape"
      ],
      "execution_count": null,
      "outputs": [
        {
          "output_type": "stream",
          "text": [
            "(24811, 10)\n"
          ],
          "name": "stdout"
        },
        {
          "output_type": "execute_result",
          "data": {
            "text/plain": [
              "(8271, 10)"
            ]
          },
          "metadata": {
            "tags": []
          },
          "execution_count": 20
        }
      ]
    },
    {
      "cell_type": "code",
      "metadata": {
        "id": "Z_HQI7G3yhRI"
      },
      "source": [
        "df_treino = df_treino.loc[: , ['weight_kilos', 'is_male', 'mother_age', 'mother_married', 'plurality', 'gestation_weeks', 'hashmonth']]\n",
        "df_teste = df_teste.loc[: , ['weight_kilos', 'is_male', 'mother_age', 'mother_married', 'plurality', 'gestation_weeks', 'hashmonth']]"
      ],
      "execution_count": null,
      "outputs": []
    },
    {
      "cell_type": "code",
      "metadata": {
        "id": "9c3568vnOR52",
        "colab": {
          "base_uri": "https://localhost:8080/"
        },
        "outputId": "4be6a376-5edf-437c-86de-589bde670e24"
      },
      "source": [
        "print(df_treino.shape, df_teste.shape)"
      ],
      "execution_count": null,
      "outputs": [
        {
          "output_type": "stream",
          "text": [
            "(24811, 7) (8271, 7)\n"
          ],
          "name": "stdout"
        }
      ]
    },
    {
      "cell_type": "markdown",
      "metadata": {
        "id": "kT5ECvmMKYGH"
      },
      "source": [
        "#Export dos dados para serem processados pelo Tensorflow\n"
      ]
    },
    {
      "cell_type": "markdown",
      "metadata": {
        "id": "wRdXus4XPURU"
      },
      "source": [
        "Grave o conteúdo em dois datasets, treino.csv e teste.csv, sem índice de linhas ou header de colunas"
      ]
    },
    {
      "cell_type": "code",
      "metadata": {
        "id": "0iQI_INaO5WQ"
      },
      "source": [
        "df_treino.to_csv('treino.csv', index=False, header=False)\n",
        "df_teste.to_csv('teste.csv', index=False, header=False)"
      ],
      "execution_count": null,
      "outputs": []
    },
    {
      "cell_type": "markdown",
      "metadata": {
        "id": "ALDE4EvwQb79"
      },
      "source": [
        "Verifica os arquicos salvos:"
      ]
    },
    {
      "cell_type": "code",
      "metadata": {
        "id": "P9NAPi7sPOMt",
        "colab": {
          "base_uri": "https://localhost:8080/"
        },
        "outputId": "e710d0ad-c114-4fec-9e7e-2cb8595247c0"
      },
      "source": [
        "%%bash\n",
        "wc -l *.csv\n",
        "head *.csv\n",
        "tail *.csv"
      ],
      "execution_count": null,
      "outputs": [
        {
          "output_type": "stream",
          "text": [
            "   8271 teste.csv\n",
            "  24811 treino.csv\n",
            "  33082 total\n",
            "==> teste.csv <==\n",
            "3.4589999970993155,False,35,True,1,40.0,2599641534368510197\n",
            "1.7009999985735575,True,18,False,1,34.0,7773938200482214258\n",
            "2.8439999976150485,False,21,False,1,25.0,7420272703711713305\n",
            "3.3449999971949147,True,35,True,1,37.0,260598435387740869\n",
            "3.1379999973685027,True,18,False,1,35.0,6749419160304400104\n",
            "3.0049999974800357,False,28,False,1,42.0,524531196325542205\n",
            "2.6929999977416754,True,23,True,1,36.0,270792696282171059\n",
            "3.543999997028035,True,31,True,1,41.0,1195438672706281328\n",
            "3.304999997228458,False,33,True,1,39.0,7361509899869211058\n",
            "2.7929999976578164,True,27,True,1,38.0,124458947937444850\n",
            "\n",
            "==> treino.csv <==\n",
            "2.3249999980502767,True,26,True,1,37.0,8387817883864991792\n",
            "3.599999996981074,True,32,True,1,39.0,1622638268154624360\n",
            "1.2159999989802739,True,16,False,1,30.0,4331749811015213748\n",
            "2.799999997651946,False,23,False,1,40.0,1891060869255459203\n",
            "2.862999997599115,False,21,False,1,40.0,1569531340167098963\n",
            "3.7709999968376744,False,32,True,1,39.0,5107972924983092617\n",
            "3.0899999974087553,True,30,True,1,39.0,1451354159195218418\n",
            "3.2499999972745806,True,22,False,1,38.0,3182182455926341111\n",
            "3.8709999967538162,False,34,True,1,39.0,1525201076796226340\n",
            "3.741999996861994,True,33,True,1,39.0,2126480030009879160\n",
            "==> teste.csv <==\n",
            "2.6369999977886365,True,34,True,1,37.0,8387817883864991792\n",
            "3.259999997266195,False,30,True,1,39.0,4329667052416032880\n",
            "3.855999996766395,False,21,True,1,39.0,3765901273411398433\n",
            "3.4299999971236343,True,33,True,1,40.0,7206972366848618664\n",
            "3.3739999971705954,False,35,True,1,43.0,4979697502521811334\n",
            "3.656999996933274,False,27,True,1,39.0,1195438672706281328\n",
            "3.579999996997846,True,31,True,1,39.0,5960947298512945432\n",
            "2.862999997599115,False,29,True,1,38.0,6392072535155213407\n",
            "3.4299999971236343,True,29,False,1,40.0,7361509899869211058\n",
            "2.6639999977659947,True,21,True,1,38.0,3408502330831153141\n",
            "\n",
            "==> treino.csv <==\n",
            "3.583999996994492,True,36,False,1,40.0,5937540421097454372\n",
            "3.4589999970993155,False,29,True,1,39.0,2126480030009879160\n",
            "3.656999996933274,False,27,True,1,38.0,4331749811015213748\n",
            "3.4589999970993155,True,29,False,1,41.0,411066950820961322\n",
            "3.061999997432236,False,32,True,1,38.0,3395086207840548940\n",
            "3.2319999972896754,False,28,False,1,39.0,6782146986770280327\n",
            "3.3449999971949147,False,27,False,1,39.0,3042228741091961920\n",
            "3.074999997421334,False,21,False,1,43.0,1305143018446161857\n",
            "3.259999997266195,False,31,True,1,35.0,8668300920110565493\n",
            "1.0489999991203185,True,25,False,1,28.0,1622638268154624360\n"
          ],
          "name": "stdout"
        }
      ]
    },
    {
      "cell_type": "code",
      "metadata": {
        "id": "xfVi1UDyaigm"
      },
      "source": [
        ""
      ],
      "execution_count": null,
      "outputs": []
    },
    {
      "cell_type": "markdown",
      "metadata": {
        "id": "9Hr1SfTrade3"
      },
      "source": [
        "# Exporta para o Cloud Storage"
      ]
    },
    {
      "cell_type": "code",
      "metadata": {
        "id": "0MXm4KhtZW7_",
        "colab": {
          "base_uri": "https://localhost:8080/"
        },
        "outputId": "5da554e1-c434-4e7d-84e1-8e966ffcc5bd"
      },
      "source": [
        "!gsutil cp *.csv gs://$bucket_id/fiap-plat/dados_treino_local"
      ],
      "execution_count": null,
      "outputs": [
        {
          "output_type": "stream",
          "text": [
            "Copying file://teste.csv [Content-Type=text/csv]...\n",
            "Copying file://treino.csv [Content-Type=text/csv]...\n",
            "/ [2 files][  1.9 MiB/  1.9 MiB]                                                \n",
            "Operation completed over 2 objects/1.9 MiB.                                      \n"
          ],
          "name": "stdout"
        }
      ]
    },
    {
      "cell_type": "code",
      "metadata": {
        "id": "mXx828rJNNkQ"
      },
      "source": [
        ""
      ],
      "execution_count": null,
      "outputs": []
    }
  ]
}